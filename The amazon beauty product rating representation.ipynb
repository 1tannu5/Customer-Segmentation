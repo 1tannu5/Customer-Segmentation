{
 "cells": [
  {
   "cell_type": "code",
   "execution_count": 15,
   "id": "606a1a3e",
   "metadata": {},
   "outputs": [],
   "source": [
    "import pandas as pd\n",
    "import seaborn as sns\n",
    "import matplotlib.pyplot as plt\n",
    "import plotly.express as px\n",
    "import numpy as np\n",
    "from scipy.stats import iqr\n",
    "from sklearn.preprocessing import StandardScaler\n",
    "from sklearn.cluster import KMeans"
   ]
  },
  {
   "cell_type": "code",
   "execution_count": 16,
   "id": "f50c60bd",
   "metadata": {},
   "outputs": [
    {
     "data": {
      "text/html": [
       "<div>\n",
       "<style scoped>\n",
       "    .dataframe tbody tr th:only-of-type {\n",
       "        vertical-align: middle;\n",
       "    }\n",
       "\n",
       "    .dataframe tbody tr th {\n",
       "        vertical-align: top;\n",
       "    }\n",
       "\n",
       "    .dataframe thead th {\n",
       "        text-align: right;\n",
       "    }\n",
       "</style>\n",
       "<table border=\"1\" class=\"dataframe\">\n",
       "  <thead>\n",
       "    <tr style=\"text-align: right;\">\n",
       "      <th></th>\n",
       "      <th>UserId</th>\n",
       "      <th>ProductId</th>\n",
       "      <th>Rating</th>\n",
       "      <th>Timestamp</th>\n",
       "    </tr>\n",
       "  </thead>\n",
       "  <tbody>\n",
       "    <tr>\n",
       "      <th>0</th>\n",
       "      <td>A39HTATAQ9V7YF</td>\n",
       "      <td>205616461</td>\n",
       "      <td>5</td>\n",
       "      <td>1369699200</td>\n",
       "    </tr>\n",
       "    <tr>\n",
       "      <th>1</th>\n",
       "      <td>A3JM6GV9MNOF9X</td>\n",
       "      <td>558925278</td>\n",
       "      <td>3</td>\n",
       "      <td>1355443200</td>\n",
       "    </tr>\n",
       "    <tr>\n",
       "      <th>2</th>\n",
       "      <td>A1Z513UWSAAO0F</td>\n",
       "      <td>558925278</td>\n",
       "      <td>5</td>\n",
       "      <td>1404691200</td>\n",
       "    </tr>\n",
       "    <tr>\n",
       "      <th>3</th>\n",
       "      <td>A1WMRR494NWEWV</td>\n",
       "      <td>733001998</td>\n",
       "      <td>4</td>\n",
       "      <td>1382572800</td>\n",
       "    </tr>\n",
       "    <tr>\n",
       "      <th>4</th>\n",
       "      <td>A3IAAVS479H7M7</td>\n",
       "      <td>737104473</td>\n",
       "      <td>1</td>\n",
       "      <td>1274227200</td>\n",
       "    </tr>\n",
       "  </tbody>\n",
       "</table>\n",
       "</div>"
      ],
      "text/plain": [
       "           UserId  ProductId  Rating   Timestamp\n",
       "0  A39HTATAQ9V7YF  205616461       5  1369699200\n",
       "1  A3JM6GV9MNOF9X  558925278       3  1355443200\n",
       "2  A1Z513UWSAAO0F  558925278       5  1404691200\n",
       "3  A1WMRR494NWEWV  733001998       4  1382572800\n",
       "4  A3IAAVS479H7M7  737104473       1  1274227200"
      ]
     },
     "execution_count": 16,
     "metadata": {},
     "output_type": "execute_result"
    }
   ],
   "source": [
    "ratings_amazon = pd.read_csv('C:\\\\Users\\\\stann\\\\OneDrive\\\\Documents\\\\datasets\\\\amazon_Beauty_productreview.csv')\n",
    "ratings_amazon = ratings_amazon.dropna()\n",
    "ratings_amazon.head()"
   ]
  },
  {
   "cell_type": "code",
   "execution_count": 17,
   "id": "efa92ac4",
   "metadata": {},
   "outputs": [
    {
     "data": {
      "text/plain": [
       "(1048575, 4)"
      ]
     },
     "execution_count": 17,
     "metadata": {},
     "output_type": "execute_result"
    }
   ],
   "source": [
    "ratings_amazon.shape"
   ]
  },
  {
   "cell_type": "code",
   "execution_count": 19,
   "id": "b488b8d6",
   "metadata": {},
   "outputs": [
    {
     "name": "stdout",
     "output_type": "stream",
     "text": [
      "<class 'pandas.core.frame.DataFrame'>\n",
      "RangeIndex: 1048575 entries, 0 to 1048574\n",
      "Data columns (total 4 columns):\n",
      " #   Column     Non-Null Count    Dtype \n",
      "---  ------     --------------    ----- \n",
      " 0   UserId     1048575 non-null  object\n",
      " 1   ProductId  1048575 non-null  object\n",
      " 2   Rating     1048575 non-null  int64 \n",
      " 3   Timestamp  1048575 non-null  int64 \n",
      "dtypes: int64(2), object(2)\n",
      "memory usage: 32.0+ MB\n"
     ]
    }
   ],
   "source": [
    "ratings_amazon.info()"
   ]
  },
  {
   "cell_type": "code",
   "execution_count": 21,
   "id": "9a5797dd",
   "metadata": {},
   "outputs": [
    {
     "data": {
      "text/plain": [
       "UserId       0\n",
       "ProductId    0\n",
       "Rating       0\n",
       "Timestamp    0\n",
       "dtype: int64"
      ]
     },
     "execution_count": 21,
     "metadata": {},
     "output_type": "execute_result"
    }
   ],
   "source": [
    "ratings_amazon.isnull().sum()"
   ]
  },
  {
   "cell_type": "code",
   "execution_count": 22,
   "id": "96f45d46",
   "metadata": {},
   "outputs": [
    {
     "data": {
      "text/plain": [
       "0"
      ]
     },
     "execution_count": 22,
     "metadata": {},
     "output_type": "execute_result"
    }
   ],
   "source": [
    "ratings_amazon.duplicated().sum()"
   ]
  },
  {
   "cell_type": "code",
   "execution_count": 24,
   "id": "ae6a1efb",
   "metadata": {},
   "outputs": [
    {
     "name": "stdout",
     "output_type": "stream",
     "text": [
      "The number of users are : 736653\n"
     ]
    }
   ],
   "source": [
    "print('The number of users are :',len(ratings_amazon.UserId.unique()))"
   ]
  },
  {
   "cell_type": "code",
   "execution_count": 26,
   "id": "b0475f1f",
   "metadata": {},
   "outputs": [
    {
     "name": "stdout",
     "output_type": "stream",
     "text": [
      "The number of products are: 97987\n"
     ]
    }
   ],
   "source": [
    "print('The number of products are:',len(ratings_amazon.ProductId.unique()))"
   ]
  },
  {
   "cell_type": "code",
   "execution_count": 27,
   "id": "9aac7c3b",
   "metadata": {},
   "outputs": [
    {
     "name": "stdout",
     "output_type": "stream",
     "text": [
      "The number of ratings are : 1048575\n"
     ]
    }
   ],
   "source": [
    "print('The number of ratings are :',ratings_amazon.shape[0])"
   ]
  },
  {
   "cell_type": "code",
   "execution_count": 31,
   "id": "e096111f",
   "metadata": {},
   "outputs": [
    {
     "data": {
      "text/html": [
       "<div>\n",
       "<style scoped>\n",
       "    .dataframe tbody tr th:only-of-type {\n",
       "        vertical-align: middle;\n",
       "    }\n",
       "\n",
       "    .dataframe tbody tr th {\n",
       "        vertical-align: top;\n",
       "    }\n",
       "\n",
       "    .dataframe thead th {\n",
       "        text-align: right;\n",
       "    }\n",
       "</style>\n",
       "<table border=\"1\" class=\"dataframe\">\n",
       "  <thead>\n",
       "    <tr style=\"text-align: right;\">\n",
       "      <th></th>\n",
       "      <th>Rating</th>\n",
       "    </tr>\n",
       "    <tr>\n",
       "      <th>ProductId</th>\n",
       "      <th></th>\n",
       "    </tr>\n",
       "  </thead>\n",
       "  <tbody>\n",
       "    <tr>\n",
       "      <th>B001MA0QY2</th>\n",
       "      <td>7533</td>\n",
       "    </tr>\n",
       "    <tr>\n",
       "      <th>B0009V1YR8</th>\n",
       "      <td>2869</td>\n",
       "    </tr>\n",
       "    <tr>\n",
       "      <th>B0000YUXI0</th>\n",
       "      <td>2143</td>\n",
       "    </tr>\n",
       "    <tr>\n",
       "      <th>B000ZMBSPE</th>\n",
       "      <td>2041</td>\n",
       "    </tr>\n",
       "    <tr>\n",
       "      <th>B003BQ6QXK</th>\n",
       "      <td>1918</td>\n",
       "    </tr>\n",
       "    <tr>\n",
       "      <th>...</th>\n",
       "      <td>...</td>\n",
       "    </tr>\n",
       "    <tr>\n",
       "      <th>B001NRE61I</th>\n",
       "      <td>1</td>\n",
       "    </tr>\n",
       "    <tr>\n",
       "      <th>B000N4B02K</th>\n",
       "      <td>1</td>\n",
       "    </tr>\n",
       "    <tr>\n",
       "      <th>B000N4AO18</th>\n",
       "      <td>1</td>\n",
       "    </tr>\n",
       "    <tr>\n",
       "      <th>B001NRTH1W</th>\n",
       "      <td>1</td>\n",
       "    </tr>\n",
       "    <tr>\n",
       "      <th>1304139212</th>\n",
       "      <td>1</td>\n",
       "    </tr>\n",
       "  </tbody>\n",
       "</table>\n",
       "<p>97987 rows × 1 columns</p>\n",
       "</div>"
      ],
      "text/plain": [
       "            Rating\n",
       "ProductId         \n",
       "B001MA0QY2    7533\n",
       "B0009V1YR8    2869\n",
       "B0000YUXI0    2143\n",
       "B000ZMBSPE    2041\n",
       "B003BQ6QXK    1918\n",
       "...            ...\n",
       "B001NRE61I       1\n",
       "B000N4B02K       1\n",
       "B000N4AO18       1\n",
       "B001NRTH1W       1\n",
       "1304139212       1\n",
       "\n",
       "[97987 rows x 1 columns]"
      ]
     },
     "execution_count": 31,
     "metadata": {},
     "output_type": "execute_result"
    }
   ],
   "source": [
    "products_rating = pd.DataFrame(ratings_amazon.groupby('ProductId')['Rating'].count())\n",
    "most_popular = products_rating.sort_values('Rating', ascending=False)\n",
    "most_popular"
   ]
  },
  {
   "cell_type": "code",
   "execution_count": 32,
   "id": "49913e1b",
   "metadata": {},
   "outputs": [
    {
     "data": {
      "text/plain": [
       "UserId\n",
       "A3M174IC0VXOS2    278\n",
       "A281NPSIMI1C2R    245\n",
       "A1RRMZKOMZ2M7J    200\n",
       "A3KEZLJ59C1JVH    178\n",
       "A2V5R832QCSOMX    173\n",
       "Name: Rating, dtype: int64"
      ]
     },
     "execution_count": 32,
     "metadata": {},
     "output_type": "execute_result"
    }
   ],
   "source": [
    "user_ratings=ratings_amazon.groupby('UserId')['Rating'].count().sort_values(ascending=False)\n",
    "user_ratings.head()"
   ]
  },
  {
   "cell_type": "code",
   "execution_count": 33,
   "id": "26a765d5",
   "metadata": {},
   "outputs": [
    {
     "data": {
      "text/plain": [
       "0.8469286742118852"
      ]
     },
     "execution_count": 33,
     "metadata": {},
     "output_type": "execute_result"
    }
   ],
   "source": [
    "len(ratings_amazon[ratings_amazon.Rating==5]['ProductId'].unique())/len(ratings_amazon['ProductId'].unique())"
   ]
  },
  {
   "cell_type": "code",
   "execution_count": 34,
   "id": "ad58eeb3",
   "metadata": {},
   "outputs": [
    {
     "data": {
      "text/plain": [
       "'5 Rating is more than 80% i.e. 84.7'"
      ]
     },
     "execution_count": 34,
     "metadata": {},
     "output_type": "execute_result"
    }
   ],
   "source": [
    "'''5 Rating is more than 80% i.e. 84.7'''"
   ]
  },
  {
   "cell_type": "code",
   "execution_count": 35,
   "id": "9a9b43c4",
   "metadata": {},
   "outputs": [
    {
     "data": {
      "text/plain": [
       "UserId\n",
       "A3M174IC0VXOS2    278\n",
       "A281NPSIMI1C2R    245\n",
       "A1RRMZKOMZ2M7J    200\n",
       "A3KEZLJ59C1JVH    178\n",
       "A2V5R832QCSOMX    173\n",
       "Name: Rating, dtype: int64"
      ]
     },
     "execution_count": 35,
     "metadata": {},
     "output_type": "execute_result"
    }
   ],
   "source": [
    "user_ratings.head()"
   ]
  },
  {
   "cell_type": "code",
   "execution_count": 40,
   "id": "8bc6b50b",
   "metadata": {},
   "outputs": [],
   "source": [
    "high_rate=ratings_amazon[ratings_amazon.Rating==5]\n",
    "rate4=ratings_amazon[ratings_amazon.Rating==4]\n",
    "rate3=ratings_amazon[ratings_amazon.Rating==3]\n",
    "rate2=ratings_amazon[ratings_amazon.Rating==2]\n",
    "low_rate=ratings_amazon[ratings_amazon.Rating==1]\n"
   ]
  },
  {
   "cell_type": "code",
   "execution_count": 41,
   "id": "43e0daba",
   "metadata": {},
   "outputs": [
    {
     "name": "stdout",
     "output_type": "stream",
     "text": [
      "The number of users who make 5 rate on products is : 502090\n",
      "The number of users who make 4 rate on products is : 129426\n",
      "The number of users who make 3 rate on products is : 72857\n",
      "The number of users who make 2 rate on products is : 52660\n",
      "The number of users who make 1 rate on products is : 86977\n"
     ]
    }
   ],
   "source": [
    "print('The number of users who make 5 rate on products is :',len(high_rate['UserId'].unique()))\n",
    "print('The number of users who make 4 rate on products is :',len(rate4['UserId'].unique()))\n",
    "print('The number of users who make 3 rate on products is :',len(rate3['UserId'].unique()))\n",
    "print('The number of users who make 2 rate on products is :',len(rate2['UserId'].unique()))\n",
    "print('The number of users who make 1 rate on products is :',len(low_rate['UserId'].unique()))"
   ]
  },
  {
   "cell_type": "code",
   "execution_count": 49,
   "id": "49cc0856",
   "metadata": {},
   "outputs": [
    {
     "data": {
      "text/plain": [
       "<Axes: title={'center': 'The amazon beauty product rating representaion '}>"
      ]
     },
     "execution_count": 49,
     "metadata": {},
     "output_type": "execute_result"
    },
    {
     "data": {
      "image/png": "[encoded data removed]",
      "text/plain": [
       "<Figure size 1200x700 with 1 Axes>"
      ]
     },
     "metadata": {},
     "output_type": "display_data"
    }
   ],
   "source": [
    "ratings_amazon.Rating.value_counts().to_frame().plot(kind='bar',figsize=(12,7),title='The amazon beauty product rating representaion ')"
   ]
  }
 ],
 "metadata": {
  "kernelspec": {
   "display_name": "Python 3 (ipykernel)",
   "language": "python",
   "name": "python3"
  },
  "language_info": {
   "codemirror_mode": {
    "name": "ipython",
    "version": 3
   },
   "file_extension": ".py",
   "mimetype": "text/x-python",
   "name": "python",
   "nbconvert_exporter": "python",
   "pygments_lexer": "ipython3",
   "version": "3.10.9"
  }
 },
 "nbformat": 4,
 "nbformat_minor": 5
}
